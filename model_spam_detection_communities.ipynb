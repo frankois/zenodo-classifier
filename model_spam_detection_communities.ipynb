{
 "cells": [
  {
   "cell_type": "markdown",
   "metadata": {},
   "source": [
    "### 0. Imports"
   ]
  },
  {
   "cell_type": "code",
   "execution_count": 13,
   "metadata": {},
   "outputs": [],
   "source": [
    "import datetime\n",
    "import gzip\n",
    "import json\n",
    "from collections import Counter\n",
    "import re\n",
    "import itertools\n",
    "import joblib\n",
    "from pathlib import Path\n",
    "\n",
    "from sklearn.ensemble import RandomForestClassifier, ExtraTreesClassifier\n",
    "from sklearn.feature_extraction.text import TfidfVectorizer\n",
    "from sklearn.naive_bayes import MultinomialNB\n",
    "from sklearn.model_selection import train_test_split\n",
    "from sklearn.pipeline import Pipeline"
   ]
  },
  {
   "cell_type": "markdown",
   "metadata": {},
   "source": [
    "### 1. Load the data"
   ]
  },
  {
   "cell_type": "code",
   "execution_count": 17,
   "metadata": {},
   "outputs": [],
   "source": [
    "data_file = Path('datasets/zenodo_community_metadata_2020-07-07.jsonl.gz')\n",
    "data = []\n",
    "labels = []\n",
    "with gzip.open(data_file, 'rb') as fp:\n",
    "    tag_removal_regex = re.compile(r'(<!--.*?-->|<[^>]*>)')\n",
    "    for l in fp:\n",
    "        r = json.loads(l)\n",
    "        clean_description = tag_removal_regex.sub('', r['description'])\n",
    "        clean_description = clean_description.replace('\\n','').replace('\\r','').replace('\\t','')\n",
    "        data.append(r['title'] + ' ' + r['curation_policy'] + r['page'] + ' ' + clean_description)\n",
    "        labels.append(r['spam'])"
   ]
  },
  {
   "cell_type": "code",
   "execution_count": 9,
   "metadata": {},
   "outputs": [
    {
     "data": {
      "text/plain": [
       "'European Middleware Initiative  &nbsp;The European Middleware Initiative (EMI) is a close collaboration of the three major middleware providers, ARC, gLite and UNICORE, and other specialized software providers like dCache.The&nbsp;project&#39;s mission&nbsp;is todeliver a consolidated set of middleware components for deployment in EGI (as part of the Unified Middleware Distribution - UMD), PRACE and other DCIs,extend the interoperability and integration with emerging computing models,strengthen the reliability and manageability of the services and establish a sustainable model to support,harmonise and evolve the middleware, ensuring it responds effectively to the requirements of the scientific communities relying on it.'"
      ]
     },
     "execution_count": 9,
     "metadata": {},
     "output_type": "execute_result"
    }
   ],
   "source": [
    "data[0]"
   ]
  },
  {
   "cell_type": "code",
   "execution_count": 10,
   "metadata": {},
   "outputs": [],
   "source": [
    "# Split dataset\n",
    "X_train, X_test, y_train, y_test = train_test_split(data, labels, test_size=0.33, random_state=422)\n",
    "\n",
    "# Random forest model\n",
    "pipeline = Pipeline([\n",
    "    (\"tfidf\", TfidfVectorizer(max_features=8000, ngram_range=(1, 1))),\n",
    "    (\"clf\", RandomForestClassifier(n_estimators=100, n_jobs=4)),\n",
    "    # (\"clf\", ExtraTreesClassifier(n_estimators=100, n_jobs=4)),\n",
    "])\n",
    "\n",
    "# Trains the model. This might take some time (~30min)\n",
    "text_clf = pipeline.fit(X_train, y_train)"
   ]
  },
  {
   "cell_type": "markdown",
   "metadata": {},
   "source": [
    "### 3. Calculate accuracy"
   ]
  },
  {
   "cell_type": "code",
   "execution_count": 11,
   "metadata": {},
   "outputs": [
    {
     "name": "stdout",
     "output_type": "stream",
     "text": [
      "Counter({(True, True): 2746, (False, False): 1762, (False, True): 24, (True, False): 13})\n",
      "Spam->Spam: 0.9953\n",
      "Ham -> Ham: 0.9866\n",
      "Accuracy: 0.9919\n"
     ]
    }
   ],
   "source": [
    "y_pred = text_clf.predict(X_test)\n",
    "acc = [(ref, pred) for ref, pred in zip(y_test, y_pred)]\n",
    "c = Counter(acc)\n",
    "print(c)\n",
    "print(\"Spam->Spam: {0:.4f}\".format(c[(True, True)] / (c[(True, True)] + c[(True, False)])))\n",
    "print(\"Ham -> Ham: {0:.4f}\".format(c[(False, False)] / (c[(False, False)] + c[(False, True)])))\n",
    "print(\"Accuracy: {0:.4f}\".format((c[(False, False)] + c[(True, True)] ) / (len(acc))))"
   ]
  },
  {
   "cell_type": "markdown",
   "metadata": {},
   "source": [
    "### 4. Dump model"
   ]
  },
  {
   "cell_type": "code",
   "execution_count": 15,
   "metadata": {},
   "outputs": [
    {
     "data": {
      "text/plain": [
       "['2020-07-09_community_spam.pkl']"
      ]
     },
     "execution_count": 15,
     "metadata": {},
     "output_type": "execute_result"
    }
   ],
   "source": [
    "models_dir = Path('models')\n",
    "modelname = '{}_community_spam.pkl'.format(datetime.date.today().isoformat())\n",
    "joblib.dump(text_clf, modelname)"
   ]
  },
  {
   "cell_type": "markdown",
   "metadata": {},
   "source": [
    "### 5. Compare accuracy of old models"
   ]
  },
  {
   "cell_type": "markdown",
   "metadata": {},
   "source": [
    "#### Results\n",
    "\n",
    "##### Accuracy of model for data up to 18/06/2017\n",
    "- NonSpam -> Spam 99.4% accuracy\n",
    "- Spam -> NonSpam # 97.1% accuracy\n",
    "\n",
    "##### Accuracy of model for data up to 09/07/2020 with RandomForest Model\n",
    "\n",
    "Counter({(True, True): 2746, (False, False): 1762, (False, True): 24, (True, False): 13})\n",
    "\n",
    "- Spam->Spam: 0.9953\n",
    "- Ham -> Ham: 0.9866\n",
    "- Accuracy: 0.9919"
   ]
  },
  {
   "cell_type": "code",
   "execution_count": null,
   "metadata": {},
   "outputs": [],
   "source": []
  }
 ],
 "metadata": {
  "kernelspec": {
   "display_name": "Python 3",
   "language": "python",
   "name": "python3"
  },
  "language_info": {
   "codemirror_mode": {
    "name": "ipython",
    "version": 3
   },
   "file_extension": ".py",
   "mimetype": "text/x-python",
   "name": "python",
   "nbconvert_exporter": "python",
   "pygments_lexer": "ipython3",
   "version": "3.6.5"
  }
 },
 "nbformat": 4,
 "nbformat_minor": 4
}
