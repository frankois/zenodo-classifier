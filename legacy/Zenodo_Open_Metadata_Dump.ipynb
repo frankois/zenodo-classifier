{
 "cells": [
  {
   "cell_type": "code",
   "execution_count": 1,
   "metadata": {},
   "outputs": [
    {
     "ename": "ModuleNotFoundError",
     "evalue": "No module named 'invenio_pidstore'",
     "output_type": "error",
     "traceback": [
      "\u001b[0;31m---------------------------------------------------------------------------\u001b[0m",
      "\u001b[0;31mModuleNotFoundError\u001b[0m                       Traceback (most recent call last)",
      "\u001b[0;32m<ipython-input-1-e90b34c8c0ca>\u001b[0m in \u001b[0;36m<module>\u001b[0;34m()\u001b[0m\n\u001b[0;32m----> 1\u001b[0;31m \u001b[0;32mfrom\u001b[0m \u001b[0minvenio_pidstore\u001b[0m\u001b[0;34m.\u001b[0m\u001b[0mmodels\u001b[0m \u001b[0;32mimport\u001b[0m \u001b[0mPersistentIdentifier\u001b[0m\u001b[0;34m\u001b[0m\u001b[0m\n\u001b[0m\u001b[1;32m      2\u001b[0m \u001b[0;32mfrom\u001b[0m \u001b[0minvenio_records\u001b[0m\u001b[0;34m.\u001b[0m\u001b[0mmodels\u001b[0m \u001b[0;32mimport\u001b[0m \u001b[0mRecordMetadata\u001b[0m\u001b[0;34m\u001b[0m\u001b[0m\n\u001b[1;32m      3\u001b[0m \u001b[0;32mfrom\u001b[0m \u001b[0msqlalchemy\u001b[0m\u001b[0;34m.\u001b[0m\u001b[0morm\u001b[0m \u001b[0;32mimport\u001b[0m \u001b[0mjoin\u001b[0m\u001b[0;34m,\u001b[0m \u001b[0mmapper\u001b[0m\u001b[0;34m,\u001b[0m \u001b[0mquery\u001b[0m\u001b[0;34m\u001b[0m\u001b[0m\n\u001b[1;32m      4\u001b[0m \u001b[0;32mfrom\u001b[0m \u001b[0minvenio_records\u001b[0m\u001b[0;34m.\u001b[0m\u001b[0mapi\u001b[0m \u001b[0;32mimport\u001b[0m \u001b[0mRecord\u001b[0m\u001b[0;34m\u001b[0m\u001b[0m\n\u001b[1;32m      5\u001b[0m \u001b[0;32mfrom\u001b[0m \u001b[0mitertools\u001b[0m \u001b[0;32mimport\u001b[0m \u001b[0mtakewhile\u001b[0m\u001b[0;34m,\u001b[0m \u001b[0mgroupby\u001b[0m\u001b[0;34m\u001b[0m\u001b[0m\n",
      "\u001b[0;31mModuleNotFoundError\u001b[0m: No module named 'invenio_pidstore'"
     ]
    }
   ],
   "source": [
    "from invenio_db import db\n",
    "from invenio_pidstore.models import PersistentIdentifier\n",
    "from invenio_records.models import RecordMetadata\n",
    "from sqlalchemy.orm import join, mapper, query\n",
    "from invenio_records.api import Record\n",
    "from itertools import takewhile, groupby\n",
    "from collections import namedtuple, Counter\n",
    "import json"
   ]
  },
  {
   "cell_type": "code",
   "execution_count": null,
   "metadata": {},
   "outputs": [],
   "source": [
    "def parse_record(rec, spam=False):\n",
    "    \n",
    "    out = {}\n",
    "        \n",
    "    # Fetch files\n",
    "    out['files'] = []\n",
    "    if '_files' in rec and rec.get('access_right') == 'open':\n",
    "        for f in rec['_files']:\n",
    "            f_json = {\n",
    "                'filename': f['key'],\n",
    "                'filetype': f['type'],\n",
    "                'size': f['size'],\n",
    "            }\n",
    "            \n",
    "            out['files'].append(f_json)\n",
    "    \n",
    "    # Fetch the fixed keys\n",
    "    out['recid'] = rec['recid']  # Recid has to be there\n",
    "    out['license'] = rec['license']['$ref'].split('licenses/')[1] if 'license' in rec else None\n",
    "    keys = ['access_right', 'creators', 'title', 'description', 'communities', 'publication_date', 'keywords', 'subjects', 'notes',\n",
    "            'resource_type', 'related_identifiers', 'contributors', 'doi', 'journal', 'alternate_identifiers',\n",
    "            'imprint', 'references', 'thesis', 'meeting', 'part_of', 'owners']\n",
    "    for key in keys:\n",
    "        out[key] = rec.get(key, None)\n",
    "        \n",
    "    # Insert the spam label\n",
    "    out['spam'] = spam\n",
    "    \n",
    "    return out"
   ]
  },
  {
   "cell_type": "code",
   "execution_count": null,
   "metadata": {},
   "outputs": [],
   "source": [
    "FILENAME = 'zenodo_open_metadata_17_05_2018.txt'\n",
    "\n",
    "records_ham = db.session.query(RecordMetadata).join(\n",
    "    PersistentIdentifier,\n",
    "    PersistentIdentifier.object_uuid == RecordMetadata.id).filter(\n",
    "        PersistentIdentifier.pid_type=='recid', \n",
    "        PersistentIdentifier.status=='R', \n",
    "        PersistentIdentifier.object_type=='rec')\n",
    "\n",
    "# Write the non-spam records first\n",
    "with open(FILENAME, 'w') as fp:\n",
    "    for r in records_ham.yield_per(1000):\n",
    "        if r.json is not None:\n",
    "            rec = parse_record(Record(r.json, model=r), spam=False)\n",
    "            fp.write(json.dumps(rec) + \"\\n\")"
   ]
  },
  {
   "cell_type": "code",
   "execution_count": null,
   "metadata": {},
   "outputs": [],
   "source": [
    "records_spam = db.session.query(RecordMetadata).join(\n",
    "    PersistentIdentifier,\n",
    "    PersistentIdentifier.object_uuid == RecordMetadata.id).filter(\n",
    "        PersistentIdentifier.pid_type=='recid', \n",
    "        PersistentIdentifier.status=='D', \n",
    "        PersistentIdentifier.object_type=='rec')\n",
    "\n",
    "# Write the SPAM records\n",
    "with open(FILENAME, 'a') as fp:\n",
    "    for r in records_spam.yield_per(1000):\n",
    "        if r.json is not None and 'removal_reason' in r.json and 'spam' in r.json['removal_reason'].lower():\n",
    "            rec = parse_record(Record(r.json, model=r).revisions[-2], spam=True)\n",
    "            fp.write(json.dumps(rec) + \"\\n\")"
   ]
  }
 ],
 "metadata": {
  "kernelspec": {
   "display_name": "Python 3",
   "language": "python",
   "name": "python3"
  },
  "language_info": {
   "codemirror_mode": {
    "name": "ipython",
    "version": 3
   },
   "file_extension": ".py",
   "mimetype": "text/x-python",
   "name": "python",
   "nbconvert_exporter": "python",
   "pygments_lexer": "ipython3",
   "version": "3.7.4"
  }
 },
 "nbformat": 4,
 "nbformat_minor": 1
}
